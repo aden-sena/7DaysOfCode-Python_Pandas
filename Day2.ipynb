{
 "cells": [
  {
   "cell_type": "markdown",
   "metadata": {},
   "source": [
    "##Day 1"
   ]
  },
  {
   "cell_type": "code",
   "execution_count": null,
   "metadata": {},
   "outputs": [],
   "source": [
    "import pandas as pd # type: ignore"
   ]
  },
  {
   "cell_type": "code",
   "execution_count": null,
   "metadata": {},
   "outputs": [],
   "source": [
    "#Exportando dados\n",
    "dados_2010_1 = pd.read_csv(\"https://github.com/FranciscoFoz/7_Days_of_Code_Alura-Python-Pandas/blob/48684f508c0c9ad1d51975c72091b160dee66db4/Dia_1-Importando_dados/Datasets/dados_emprestimos/emprestimos-20101.csv?raw=True\")\n",
    "dados_2010_2 = pd.read_csv(\"https://github.com/FranciscoFoz/7_Days_of_Code_Alura-Python-Pandas/blob/48684f508c0c9ad1d51975c72091b160dee66db4/Dia_1-Importando_dados/Datasets/dados_emprestimos/emprestimos-20102.csv?raw=True\")\n",
    "\n",
    "dados_2011_1 = pd.read_csv(\"https://github.com/FranciscoFoz/7_Days_of_Code_Alura-Python-Pandas/blob/48684f508c0c9ad1d51975c72091b160dee66db4/Dia_1-Importando_dados/Datasets/dados_emprestimos/emprestimos-20111.csv?raw=True\")\n",
    "dados_2011_2 = pd.read_csv(\"https://github.com/FranciscoFoz/7_Days_of_Code_Alura-Python-Pandas/blob/48684f508c0c9ad1d51975c72091b160dee66db4/Dia_1-Importando_dados/Datasets/dados_emprestimos/emprestimos-20112.csv?raw=True\")\n",
    "\n",
    "dados_2012_1 = pd.read_csv(\"https://github.com/FranciscoFoz/7_Days_of_Code_Alura-Python-Pandas/blob/48684f508c0c9ad1d51975c72091b160dee66db4/Dia_1-Importando_dados/Datasets/dados_emprestimos/emprestimos-20121.csv?raw=True\")\n",
    "dados_2012_2 = pd.read_csv(\"https://github.com/FranciscoFoz/7_Days_of_Code_Alura-Python-Pandas/blob/48684f508c0c9ad1d51975c72091b160dee66db4/Dia_1-Importando_dados/Datasets/dados_emprestimos/emprestimos-20122.csv?raw=True\")\n",
    "\n",
    "dados_2013_1 = pd.read_csv(\"https://github.com/FranciscoFoz/7_Days_of_Code_Alura-Python-Pandas/blob/48684f508c0c9ad1d51975c72091b160dee66db4/Dia_1-Importando_dados/Datasets/dados_emprestimos/emprestimos-20131.csv?raw=True\")\n",
    "dados_2013_2 = pd.read_csv(\"https://github.com/FranciscoFoz/7_Days_of_Code_Alura-Python-Pandas/blob/48684f508c0c9ad1d51975c72091b160dee66db4/Dia_1-Importando_dados/Datasets/dados_emprestimos/emprestimos-20132.csv?raw=True\")\n",
    "\n",
    "dados_2014_1 = pd.read_csv(\"https://github.com/FranciscoFoz/7_Days_of_Code_Alura-Python-Pandas/blob/48684f508c0c9ad1d51975c72091b160dee66db4/Dia_1-Importando_dados/Datasets/dados_emprestimos/emprestimos-20141.csv?raw=True\")\n",
    "dados_2014_2 = pd.read_csv(\"https://github.com/FranciscoFoz/7_Days_of_Code_Alura-Python-Pandas/blob/48684f508c0c9ad1d51975c72091b160dee66db4/Dia_1-Importando_dados/Datasets/dados_emprestimos/emprestimos-20142.csv?raw=True\")\n",
    "\n",
    "dados_2015_1 = pd.read_csv(\"https://github.com/FranciscoFoz/7_Days_of_Code_Alura-Python-Pandas/blob/48684f508c0c9ad1d51975c72091b160dee66db4/Dia_1-Importando_dados/Datasets/dados_emprestimos/emprestimos-20151.csv?raw=True\")\n",
    "dados_2015_2 = pd.read_csv(\"https://github.com/FranciscoFoz/7_Days_of_Code_Alura-Python-Pandas/blob/48684f508c0c9ad1d51975c72091b160dee66db4/Dia_1-Importando_dados/Datasets/dados_emprestimos/emprestimos-20152.csv?raw=True\")\n",
    "\n",
    "dados_2016_1 = pd.read_csv(\"https://github.com/FranciscoFoz/7_Days_of_Code_Alura-Python-Pandas/blob/48684f508c0c9ad1d51975c72091b160dee66db4/Dia_1-Importando_dados/Datasets/dados_emprestimos/emprestimos-20161.csv?raw=True\")\n",
    "dados_2016_2 = pd.read_csv(\"https://github.com/FranciscoFoz/7_Days_of_Code_Alura-Python-Pandas/blob/48684f508c0c9ad1d51975c72091b160dee66db4/Dia_1-Importando_dados/Datasets/dados_emprestimos/emprestimos-20162.csv?raw=True\")\n",
    "\n",
    "dados_2017_1 = pd.read_csv(\"https://github.com/FranciscoFoz/7_Days_of_Code_Alura-Python-Pandas/blob/48684f508c0c9ad1d51975c72091b160dee66db4/Dia_1-Importando_dados/Datasets/dados_emprestimos/emprestimos-20171.csv?raw=True\")\n",
    "dados_2017_2 = pd.read_csv(\"https://github.com/FranciscoFoz/7_Days_of_Code_Alura-Python-Pandas/blob/48684f508c0c9ad1d51975c72091b160dee66db4/Dia_1-Importando_dados/Datasets/dados_emprestimos/emprestimos-20172.csv?raw=True\")\n",
    "\n",
    "dados_2018_1 = pd.read_csv(\"https://github.com/FranciscoFoz/7_Days_of_Code_Alura-Python-Pandas/blob/48684f508c0c9ad1d51975c72091b160dee66db4/Dia_1-Importando_dados/Datasets/dados_emprestimos/emprestimos-20181.csv?raw=True\")\n",
    "dados_2018_2 = pd.read_csv(\"https://github.com/FranciscoFoz/7_Days_of_Code_Alura-Python-Pandas/blob/48684f508c0c9ad1d51975c72091b160dee66db4/Dia_1-Importando_dados/Datasets/dados_emprestimos/emprestimos-20182.csv?raw=True\")\n",
    "\n",
    "dados_2019_1 = pd.read_csv(\"https://github.com/FranciscoFoz/7_Days_of_Code_Alura-Python-Pandas/blob/48684f508c0c9ad1d51975c72091b160dee66db4/Dia_1-Importando_dados/Datasets/dados_emprestimos/emprestimos-20191.csv?raw=True\")\n",
    "dados_2019_2 = pd.read_csv(\"https://github.com/FranciscoFoz/7_Days_of_Code_Alura-Python-Pandas/blob/48684f508c0c9ad1d51975c72091b160dee66db4/Dia_1-Importando_dados/Datasets/dados_emprestimos/emprestimos-20192.csv?raw=True\")\n",
    "\n",
    "dados_2020_1 = pd.read_csv(\"https://github.com/FranciscoFoz/7_Days_of_Code_Alura-Python-Pandas/blob/48684f508c0c9ad1d51975c72091b160dee66db4/Dia_1-Importando_dados/Datasets/dados_emprestimos/emprestimos-20201.csv?raw=True\")"
   ]
  },
  {
   "cell_type": "code",
   "execution_count": null,
   "metadata": {},
   "outputs": [],
   "source": [
    "#Unificação dos dados\n",
    "emprestimos_biblioteca = pd.concat([dados_2010_1, dados_2010_2, dados_2011_1, dados_2011_2, dados_2012_1, dados_2012_2, dados_2013_1, dados_2013_2, dados_2014_1, dados_2014_2, dados_2015_1, dados_2015_2, dados_2016_1, dados_2016_2, dados_2017_1, dados_2017_2, dados_2018_1, dados_2018_2, dados_2019_1, dados_2019_2, dados_2020_1], ignore_index=True)\n",
    "\n",
    "emprestimos_biblioteca"
   ]
  },
  {
   "cell_type": "code",
   "execution_count": null,
   "metadata": {},
   "outputs": [],
   "source": [
    "#Verificar duplicatas\n",
    "emprestimos_biblioteca.value_counts()"
   ]
  },
  {
   "cell_type": "code",
   "execution_count": null,
   "metadata": {},
   "outputs": [],
   "source": [
    "#Excluindo duplicatas\n",
    "emprestimos_biblioteca = emprestimos_biblioteca.drop_duplicates()\n",
    "\n",
    "emprestimos_biblioteca.value_counts()"
   ]
  },
  {
   "cell_type": "code",
   "execution_count": null,
   "metadata": {},
   "outputs": [],
   "source": [
    "#Exibir dados, de n linhas, para verificar se estão com os tipos certo de dados\n",
    "#head(n)\n",
    "emprestimos_biblioteca.head()"
   ]
  },
  {
   "cell_type": "code",
   "execution_count": null,
   "metadata": {},
   "outputs": [],
   "source": [
    "#Deu erro, precisa ter o pyarrow instalado para funcionar\n",
    "dados_exemplares = pd.read_parquet(\"https://github.com/FranciscoFoz/7_Days_of_Code_Alura-Python-Pandas/raw/48684f508c0c9ad1d51975c72091b160dee66db4/Dia_1-Importando_dados/Datasets/dados_exemplares.parquet\")\n",
    "\n",
    "dados_exemplares"
   ]
  },
  {
   "cell_type": "code",
   "execution_count": null,
   "metadata": {},
   "outputs": [],
   "source": [
    "emprestimo_completo = emprestimos_biblioteca.merge(dados_exemplares)\n",
    "\n",
    "emprestimo_completo"
   ]
  },
  {
   "cell_type": "markdown",
   "metadata": {},
   "source": [
    "##Day 2"
   ]
  },
  {
   "cell_type": "code",
   "execution_count": null,
   "metadata": {},
   "outputs": [],
   "source": [
    "CDU_lista = []\n",
    "\n",
    "for CDU in emprestimo_completo['localizacao']:\n",
    "    if(CDU < 100):\n",
    "        CDU_lista.append(\"Generalidade\")\n",
    "    elif(CDU < 200):\n",
    "        CDU_lista.append(\"Filosofia e Psicologia\")\n",
    "    elif(CDU < 300):\n",
    "        CDU_lista.append(\"Religião\")\n",
    "    elif(CDU < 400):\n",
    "        CDU_lista.append(\"Ciências Sociais\")\n",
    "    elif(CDU < 500):\n",
    "        CDU_lista.append(\"Classe Vaga\")\n",
    "    elif(CDU < 600):\n",
    "        CDU_lista.append(\"Matemática e Ciências Naturais\")\n",
    "    elif(CDU < 700):\n",
    "        CDU_lista.append(\"Ciências Aplicada\")\n",
    "    elif(CDU < 800):\n",
    "        CDU_lista.append(\"Belas Artes\")\n",
    "    elif(CDU < 900):\n",
    "        CDU_lista.append(\"Linguagem\")\n",
    "    else:\n",
    "        CDU_lista.append(\"Geografia. Biologia. História.\")\n",
    "\n",
    "emprestimo_completo['cdu_geral'] = CDU_lista\n",
    "\n",
    "emprestimo_completo.head()"
   ]
  },
  {
   "cell_type": "code",
   "execution_count": null,
   "metadata": {},
   "outputs": [],
   "source": [
    "#Apagando uma coluna da tabela\n",
    "emprestimo_completo.drop(columns=['registro_sistema'], inplace=True)\n",
    "\n",
    "emprestimo_completo.head()"
   ]
  },
  {
   "cell_type": "code",
   "execution_count": null,
   "metadata": {},
   "outputs": [],
   "source": [
    "#Alterando o tipo de uma das colunas\n",
    "emprestimo_completo['matricula_ou_siape'] = emprestimo_completo['matricula_ou_siape'].astype(\"string\")\n",
    "\n",
    "emprestimo_completo.head()"
   ]
  }
 ],
 "metadata": {
  "kernelspec": {
   "display_name": "Python 3",
   "language": "python",
   "name": "python3"
  },
  "language_info": {
   "codemirror_mode": {
    "name": "ipython",
    "version": 3
   },
   "file_extension": ".py",
   "mimetype": "text/x-python",
   "name": "python",
   "nbconvert_exporter": "python",
   "pygments_lexer": "ipython3",
   "version": "3.12.4"
  }
 },
 "nbformat": 4,
 "nbformat_minor": 2
}
