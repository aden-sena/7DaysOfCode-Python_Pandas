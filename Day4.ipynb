{
 "cells": [
  {
   "cell_type": "markdown",
   "metadata": {},
   "source": [
    "##Day 1"
   ]
  },
  {
   "cell_type": "code",
   "execution_count": null,
   "metadata": {},
   "outputs": [],
   "source": [
    "import pandas as pd\n",
    "\n",
    "#Day 3\n",
    "import seaborn as sns\n",
    "import matplotlib.ticker as ticker\n",
    "import matplotlib.pyplot as plt"
   ]
  },
  {
   "cell_type": "code",
   "execution_count": null,
   "metadata": {},
   "outputs": [],
   "source": [
    "#Exportando dados\n",
    "dados_2010_1 = pd.read_csv(\"https://github.com/FranciscoFoz/7_Days_of_Code_Alura-Python-Pandas/blob/48684f508c0c9ad1d51975c72091b160dee66db4/Dia_1-Importando_dados/Datasets/dados_emprestimos/emprestimos-20101.csv?raw=True\")\n",
    "dados_2010_2 = pd.read_csv(\"https://github.com/FranciscoFoz/7_Days_of_Code_Alura-Python-Pandas/blob/48684f508c0c9ad1d51975c72091b160dee66db4/Dia_1-Importando_dados/Datasets/dados_emprestimos/emprestimos-20102.csv?raw=True\")\n",
    "\n",
    "dados_2011_1 = pd.read_csv(\"https://github.com/FranciscoFoz/7_Days_of_Code_Alura-Python-Pandas/blob/48684f508c0c9ad1d51975c72091b160dee66db4/Dia_1-Importando_dados/Datasets/dados_emprestimos/emprestimos-20111.csv?raw=True\")\n",
    "dados_2011_2 = pd.read_csv(\"https://github.com/FranciscoFoz/7_Days_of_Code_Alura-Python-Pandas/blob/48684f508c0c9ad1d51975c72091b160dee66db4/Dia_1-Importando_dados/Datasets/dados_emprestimos/emprestimos-20112.csv?raw=True\")\n",
    "\n",
    "dados_2012_1 = pd.read_csv(\"https://github.com/FranciscoFoz/7_Days_of_Code_Alura-Python-Pandas/blob/48684f508c0c9ad1d51975c72091b160dee66db4/Dia_1-Importando_dados/Datasets/dados_emprestimos/emprestimos-20121.csv?raw=True\")\n",
    "dados_2012_2 = pd.read_csv(\"https://github.com/FranciscoFoz/7_Days_of_Code_Alura-Python-Pandas/blob/48684f508c0c9ad1d51975c72091b160dee66db4/Dia_1-Importando_dados/Datasets/dados_emprestimos/emprestimos-20122.csv?raw=True\")\n",
    "\n",
    "dados_2013_1 = pd.read_csv(\"https://github.com/FranciscoFoz/7_Days_of_Code_Alura-Python-Pandas/blob/48684f508c0c9ad1d51975c72091b160dee66db4/Dia_1-Importando_dados/Datasets/dados_emprestimos/emprestimos-20131.csv?raw=True\")\n",
    "dados_2013_2 = pd.read_csv(\"https://github.com/FranciscoFoz/7_Days_of_Code_Alura-Python-Pandas/blob/48684f508c0c9ad1d51975c72091b160dee66db4/Dia_1-Importando_dados/Datasets/dados_emprestimos/emprestimos-20132.csv?raw=True\")\n",
    "\n",
    "dados_2014_1 = pd.read_csv(\"https://github.com/FranciscoFoz/7_Days_of_Code_Alura-Python-Pandas/blob/48684f508c0c9ad1d51975c72091b160dee66db4/Dia_1-Importando_dados/Datasets/dados_emprestimos/emprestimos-20141.csv?raw=True\")\n",
    "dados_2014_2 = pd.read_csv(\"https://github.com/FranciscoFoz/7_Days_of_Code_Alura-Python-Pandas/blob/48684f508c0c9ad1d51975c72091b160dee66db4/Dia_1-Importando_dados/Datasets/dados_emprestimos/emprestimos-20142.csv?raw=True\")\n",
    "\n",
    "dados_2015_1 = pd.read_csv(\"https://github.com/FranciscoFoz/7_Days_of_Code_Alura-Python-Pandas/blob/48684f508c0c9ad1d51975c72091b160dee66db4/Dia_1-Importando_dados/Datasets/dados_emprestimos/emprestimos-20151.csv?raw=True\")\n",
    "dados_2015_2 = pd.read_csv(\"https://github.com/FranciscoFoz/7_Days_of_Code_Alura-Python-Pandas/blob/48684f508c0c9ad1d51975c72091b160dee66db4/Dia_1-Importando_dados/Datasets/dados_emprestimos/emprestimos-20152.csv?raw=True\")\n",
    "\n",
    "dados_2016_1 = pd.read_csv(\"https://github.com/FranciscoFoz/7_Days_of_Code_Alura-Python-Pandas/blob/48684f508c0c9ad1d51975c72091b160dee66db4/Dia_1-Importando_dados/Datasets/dados_emprestimos/emprestimos-20161.csv?raw=True\")\n",
    "dados_2016_2 = pd.read_csv(\"https://github.com/FranciscoFoz/7_Days_of_Code_Alura-Python-Pandas/blob/48684f508c0c9ad1d51975c72091b160dee66db4/Dia_1-Importando_dados/Datasets/dados_emprestimos/emprestimos-20162.csv?raw=True\")\n",
    "\n",
    "dados_2017_1 = pd.read_csv(\"https://github.com/FranciscoFoz/7_Days_of_Code_Alura-Python-Pandas/blob/48684f508c0c9ad1d51975c72091b160dee66db4/Dia_1-Importando_dados/Datasets/dados_emprestimos/emprestimos-20171.csv?raw=True\")\n",
    "dados_2017_2 = pd.read_csv(\"https://github.com/FranciscoFoz/7_Days_of_Code_Alura-Python-Pandas/blob/48684f508c0c9ad1d51975c72091b160dee66db4/Dia_1-Importando_dados/Datasets/dados_emprestimos/emprestimos-20172.csv?raw=True\")\n",
    "\n",
    "dados_2018_1 = pd.read_csv(\"https://github.com/FranciscoFoz/7_Days_of_Code_Alura-Python-Pandas/blob/48684f508c0c9ad1d51975c72091b160dee66db4/Dia_1-Importando_dados/Datasets/dados_emprestimos/emprestimos-20181.csv?raw=True\")\n",
    "dados_2018_2 = pd.read_csv(\"https://github.com/FranciscoFoz/7_Days_of_Code_Alura-Python-Pandas/blob/48684f508c0c9ad1d51975c72091b160dee66db4/Dia_1-Importando_dados/Datasets/dados_emprestimos/emprestimos-20182.csv?raw=True\")\n",
    "\n",
    "dados_2019_1 = pd.read_csv(\"https://github.com/FranciscoFoz/7_Days_of_Code_Alura-Python-Pandas/blob/48684f508c0c9ad1d51975c72091b160dee66db4/Dia_1-Importando_dados/Datasets/dados_emprestimos/emprestimos-20191.csv?raw=True\")\n",
    "dados_2019_2 = pd.read_csv(\"https://github.com/FranciscoFoz/7_Days_of_Code_Alura-Python-Pandas/blob/48684f508c0c9ad1d51975c72091b160dee66db4/Dia_1-Importando_dados/Datasets/dados_emprestimos/emprestimos-20192.csv?raw=True\")\n",
    "\n",
    "dados_2020_1 = pd.read_csv(\"https://github.com/FranciscoFoz/7_Days_of_Code_Alura-Python-Pandas/blob/48684f508c0c9ad1d51975c72091b160dee66db4/Dia_1-Importando_dados/Datasets/dados_emprestimos/emprestimos-20201.csv?raw=True\")"
   ]
  },
  {
   "cell_type": "code",
   "execution_count": null,
   "metadata": {},
   "outputs": [],
   "source": [
    "#Unificação dos dados\n",
    "emprestimos_biblioteca = pd.concat([dados_2010_1, dados_2010_2, dados_2011_1, dados_2011_2, dados_2012_1, dados_2012_2, dados_2013_1, dados_2013_2, dados_2014_1, dados_2014_2, dados_2015_1, dados_2015_2, dados_2016_1, dados_2016_2, dados_2017_1, dados_2017_2, dados_2018_1, dados_2018_2, dados_2019_1, dados_2019_2, dados_2020_1], ignore_index=True)"
   ]
  },
  {
   "cell_type": "code",
   "execution_count": null,
   "metadata": {},
   "outputs": [],
   "source": [
    "#Verificar duplicatas\n",
    "emprestimos_biblioteca.value_counts()"
   ]
  },
  {
   "cell_type": "code",
   "execution_count": null,
   "metadata": {},
   "outputs": [],
   "source": [
    "#Excluindo duplicatas\n",
    "emprestimos_biblioteca = emprestimos_biblioteca.drop_duplicates()\n",
    "\n",
    "emprestimos_biblioteca.value_counts()"
   ]
  },
  {
   "cell_type": "code",
   "execution_count": null,
   "metadata": {},
   "outputs": [],
   "source": [
    "#Exibir dados, de n linhas, para verificar se estão com os tipos certo de dados\n",
    "#head(n)\n",
    "emprestimos_biblioteca.head()"
   ]
  },
  {
   "cell_type": "code",
   "execution_count": null,
   "metadata": {},
   "outputs": [],
   "source": [
    "#Deu erro, precisa ter o pyarrow instalado para funcionar\n",
    "dados_exemplares = pd.read_parquet(\"https://github.com/FranciscoFoz/7_Days_of_Code_Alura-Python-Pandas/raw/48684f508c0c9ad1d51975c72091b160dee66db4/Dia_1-Importando_dados/Datasets/dados_exemplares.parquet\")"
   ]
  },
  {
   "cell_type": "code",
   "execution_count": null,
   "metadata": {},
   "outputs": [],
   "source": [
    "emprestimo_completo = emprestimos_biblioteca.merge(dados_exemplares)"
   ]
  },
  {
   "cell_type": "markdown",
   "metadata": {},
   "source": [
    "##Day 2"
   ]
  },
  {
   "cell_type": "code",
   "execution_count": null,
   "metadata": {},
   "outputs": [],
   "source": [
    "CDU_lista = []\n",
    "\n",
    "for CDU in emprestimo_completo['localizacao']:\n",
    "    if(CDU < 100):\n",
    "        CDU_lista.append(\"Generalidade\")\n",
    "    elif(CDU < 200):\n",
    "        CDU_lista.append(\"Filosofia e Psicologia\")\n",
    "    elif(CDU < 300):\n",
    "        CDU_lista.append(\"Religião\")\n",
    "    elif(CDU < 400):\n",
    "        CDU_lista.append(\"Ciências Sociais\")\n",
    "    elif(CDU < 500):\n",
    "        CDU_lista.append(\"Classe Vaga\")\n",
    "    elif(CDU < 600):\n",
    "        CDU_lista.append(\"Matemática e Ciências Naturais\")\n",
    "    elif(CDU < 700):\n",
    "        CDU_lista.append(\"Ciências Aplicada\")\n",
    "    elif(CDU < 800):\n",
    "        CDU_lista.append(\"Belas Artes\")\n",
    "    elif(CDU < 900):\n",
    "        CDU_lista.append(\"Linguagem\")\n",
    "    else:\n",
    "        CDU_lista.append(\"Geografia. Biologia. História.\")\n",
    "\n",
    "emprestimo_completo['cdu_geral'] = CDU_lista\n",
    "\n",
    "emprestimo_completo.head()"
   ]
  },
  {
   "cell_type": "code",
   "execution_count": null,
   "metadata": {},
   "outputs": [],
   "source": [
    "#Apagando uma coluna da tabela\n",
    "emprestimo_completo.drop(columns=['registro_sistema'], inplace=True)\n",
    "\n",
    "emprestimo_completo.head()"
   ]
  },
  {
   "cell_type": "code",
   "execution_count": null,
   "metadata": {},
   "outputs": [],
   "source": [
    "#Alterando o tipo de uma das colunas\n",
    "emprestimo_completo['matricula_ou_siape'] = emprestimo_completo['matricula_ou_siape'].astype(\"string\")\n",
    "\n",
    "emprestimo_completo.head()"
   ]
  },
  {
   "cell_type": "markdown",
   "metadata": {},
   "source": [
    "##Dia 3"
   ]
  },
  {
   "cell_type": "code",
   "execution_count": null,
   "metadata": {},
   "outputs": [],
   "source": [
    "#Guardando a quantidade de emprestimos\n",
    "emprestimos = len(emprestimo_completo[\"id_emprestimo\"].drop_duplicates())"
   ]
  },
  {
   "cell_type": "code",
   "execution_count": null,
   "metadata": {},
   "outputs": [],
   "source": [
    "#Guardando a quantidade de exemplares emprestados\n",
    "exemplares = len(emprestimo_completo)"
   ]
  },
  {
   "cell_type": "code",
   "execution_count": null,
   "metadata": {},
   "outputs": [],
   "source": [
    "#Guardando a quantidade de emprestimos\n",
    "emprestimo_data = pd.DataFrame(emprestimo_completo[\"data_emprestimo\"].value_counts()).reset_index()\n",
    "#Criando colunas\n",
    "emprestimo_data.columns = [\"data\", \"quantidade\"]\n",
    "#Convertendo a coluna data para o tipo datetime\n",
    "emprestimo_data[\"data\"] = pd.to_datetime(emprestimo_data[\"data\"])"
   ]
  },
  {
   "cell_type": "code",
   "execution_count": null,
   "metadata": {},
   "outputs": [],
   "source": [
    "#Guerdando a quantidade de emprestimos por ano\n",
    "#o \"sum()\" precisa ter o \"numeric_only=True\" para funcionar \n",
    "emprestimo_por_ano = emprestimo_data.groupby(by=emprestimo_data.data.dt.year).sum(numeric_only=True)\n",
    "emprestimo_por_ano.index.name = \"ano\""
   ]
  },
  {
   "cell_type": "code",
   "execution_count": null,
   "metadata": {},
   "outputs": [],
   "source": [
    "sns.set_theme(context=\"notebook\",\n",
    "              style=\"darkgrid\",\n",
    "              palette=\"deep\",\n",
    "              font_scale=1.3,\n",
    "              rc={\"figure.figsize\":(18,8)})"
   ]
  },
  {
   "cell_type": "code",
   "execution_count": null,
   "metadata": {},
   "outputs": [],
   "source": [
    "ax = sns.lineplot(data=emprestimo_por_ano, x=\"ano\", y=\"quantidade\")\n",
    "ax.set(xlabel=None, ylabel=None)\n",
    "ax.tick_params(axis=\"x\", rotation=30)\n",
    "ax.yaxis.set_major_formatter(ticker.FuncFormatter(lambda x, p: format(int(x), \",\").replace(\",\", \".\")))\n",
    "\n",
    "ax.set_title(\"Quantidade de exemplares emprestados por ano\" + \"\\n\", size=20, loc=\"left\", weight=\"bold\")\n",
    "\n",
    "ax = ax"
   ]
  },
  {
   "cell_type": "code",
   "execution_count": null,
   "metadata": {},
   "outputs": [],
   "source": [
    "emprestimo_por_mes = emprestimo_data.groupby(by=emprestimo_data.data.dt.month).sum(numeric_only=True)\n",
    "emprestimo_por_mes.index.name = \"mes\""
   ]
  },
  {
   "cell_type": "code",
   "execution_count": null,
   "metadata": {},
   "outputs": [],
   "source": [
    "dicionario_meses = {1: \"Jan\", 2: \"Fev\", 3: \"Mar\", 4: \"Abr\", 5: \"Mai\", 6: \"Jun\", 7: \"Jul\", 8: \"Ago\", 9: \"Set\", 10: \"Out\", 11: \"Nov\", 12: \"Dez\"}\n",
    "\n",
    "emprestimo_por_mes.index = emprestimo_por_mes.index.map(dicionario_meses)"
   ]
  },
  {
   "cell_type": "code",
   "execution_count": null,
   "metadata": {},
   "outputs": [],
   "source": [
    "ax = sns.lineplot(data=emprestimo_por_mes, x=\"mes\", y=\"quantidade\")\n",
    "ax.set(xlabel=None, ylabel=None)\n",
    "ax.tick_params(axis=\"x\", rotation=30)\n",
    "ax.yaxis.set_major_formatter(ticker.FuncFormatter(lambda x, p: format(int(x), \",\").replace(\",\", \".\")))\n",
    "\n",
    "ax.set_title(\"Quantidade de exemplares emprestados por mês\" + \"\\n\", size=20, loc=\"left\", weight=\"bold\")\n",
    "ax.text(s=\"Período de 2010 à 2020\", x=-0.5, y=265000, fontsize=18, ha=\"left\", color=\"gray\")\n",
    "\n",
    "ax = ax"
   ]
  },
  {
   "cell_type": "code",
   "execution_count": null,
   "metadata": {},
   "outputs": [],
   "source": [
    "emprestimo_por_hora = emprestimo_data.groupby(by=emprestimo_data.data.dt.hour).sum(numeric_only=True)\n",
    "emprestimo_por_hora.index.name = \"horas\"\n",
    "emprestimo_por_hora = emprestimo_por_hora.reset_index()"
   ]
  },
  {
   "cell_type": "code",
   "execution_count": null,
   "metadata": {},
   "outputs": [],
   "source": [
    "emprestimo_por_hora = emprestimo_por_hora.sort_values(ascending=True, by=\"quantidade\")"
   ]
  },
  {
   "cell_type": "code",
   "execution_count": null,
   "metadata": {},
   "outputs": [],
   "source": [
    "ax = sns.barplot(data=emprestimo_por_hora, y=\"quantidade\", x=\"horas\", palette=\"Blues\", hue=\"quantidade\", dodge=False)\n",
    "plt.legend([], [], frameon=False)\n",
    "\n",
    "ax.set(xlabel=\"Horário\", ylabel=None)\n",
    "ax.yaxis.set_major_formatter(ticker.FuncFormatter(lambda x, p: format(int(x), \",\").replace(\",\", \".\")))\n",
    "ax.set_title(\"Quantidade de exemplares emprestados por hora\" + \"\\n\", size=20, loc=\"left\", weight=\"bold\")\n",
    "ax.text(s=\"Período dse 2010 à 2020\", x=-0.5, y=225000, fontsize=18, ha=\"left\", color=\"gray\")\n",
    "\n",
    "ax = ax"
   ]
  },
  {
   "cell_type": "markdown",
   "metadata": {},
   "source": [
    "##Dia 4"
   ]
  },
  {
   "cell_type": "code",
   "execution_count": null,
   "metadata": {},
   "outputs": [],
   "source": [
    "emprestimo_completo[\"data_emprestimo\"] = pd.to_datetime(emprestimo_completo[\"data_emprestimo\"])"
   ]
  },
  {
   "cell_type": "code",
   "execution_count": null,
   "metadata": {},
   "outputs": [],
   "source": [
    "emprestimo_completo.tipo_vinculo_usuario.unique()"
   ]
  },
  {
   "cell_type": "code",
   "execution_count": null,
   "metadata": {},
   "outputs": [],
   "source": [
    "emprestimo_completo.colecao.unique()"
   ]
  },
  {
   "cell_type": "code",
   "execution_count": null,
   "metadata": {},
   "outputs": [],
   "source": [
    "emprestimo_completo.biblioteca.unique()"
   ]
  },
  {
   "cell_type": "code",
   "execution_count": null,
   "metadata": {},
   "outputs": [],
   "source": [
    "emprestimo_completo.cdu_geral.unique()"
   ]
  },
  {
   "cell_type": "code",
   "execution_count": null,
   "metadata": {},
   "outputs": [],
   "source": [
    "#A \"variavel\" é a variável categórica escolhida\n",
    "def tabela_frequencia(variavel):\n",
    "    dataframe = pd.DataFrame(emprestimo_completo[variavel].value_counts())\n",
    "    dataframe.columns = [\"quantidade\"]\n",
    "    dataframe[\"percentual\"] = round((dataframe.quantidade / dataframe.quantidade.sum())*100, 1)\n",
    "    return dataframe"
   ]
  },
  {
   "cell_type": "code",
   "execution_count": null,
   "metadata": {},
   "outputs": [],
   "source": [
    "tabela_frequencia(\"tipo_vinculo_usuario\")"
   ]
  },
  {
   "cell_type": "code",
   "execution_count": null,
   "metadata": {},
   "outputs": [],
   "source": [
    "tabela_frequencia(\"colecao\")"
   ]
  },
  {
   "cell_type": "code",
   "execution_count": null,
   "metadata": {},
   "outputs": [],
   "source": [
    "tabela_frequencia(\"biblioteca\")"
   ]
  },
  {
   "cell_type": "code",
   "execution_count": null,
   "metadata": {},
   "outputs": [],
   "source": [
    "tabela_frequencia(\"cdu_geral\")"
   ]
  }
 ],
 "metadata": {
  "kernelspec": {
   "display_name": "Python 3",
   "language": "python",
   "name": "python3"
  },
  "language_info": {
   "codemirror_mode": {
    "name": "ipython",
    "version": 3
   },
   "file_extension": ".py",
   "mimetype": "text/x-python",
   "name": "python",
   "nbconvert_exporter": "python",
   "pygments_lexer": "ipython3",
   "version": "3.12.4"
  }
 },
 "nbformat": 4,
 "nbformat_minor": 2
}
