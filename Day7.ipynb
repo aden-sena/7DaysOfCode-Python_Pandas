{
 "cells": [
  {
   "cell_type": "markdown",
   "metadata": {},
   "source": [
    "##Day 1"
   ]
  },
  {
   "cell_type": "code",
   "execution_count": null,
   "metadata": {},
   "outputs": [],
   "source": [
    "import pandas as pd\n",
    "\n",
    "#Day 3\n",
    "import seaborn as sns\n",
    "import matplotlib.ticker as ticker\n",
    "import matplotlib.pyplot as plt"
   ]
  },
  {
   "cell_type": "code",
   "execution_count": null,
   "metadata": {},
   "outputs": [],
   "source": [
    "#Exportando dados\n",
    "dados_2010_1 = pd.read_csv(\"https://github.com/FranciscoFoz/7_Days_of_Code_Alura-Python-Pandas/blob/48684f508c0c9ad1d51975c72091b160dee66db4/Dia_1-Importando_dados/Datasets/dados_emprestimos/emprestimos-20101.csv?raw=True\")\n",
    "dados_2010_2 = pd.read_csv(\"https://github.com/FranciscoFoz/7_Days_of_Code_Alura-Python-Pandas/blob/48684f508c0c9ad1d51975c72091b160dee66db4/Dia_1-Importando_dados/Datasets/dados_emprestimos/emprestimos-20102.csv?raw=True\")\n",
    "\n",
    "dados_2011_1 = pd.read_csv(\"https://github.com/FranciscoFoz/7_Days_of_Code_Alura-Python-Pandas/blob/48684f508c0c9ad1d51975c72091b160dee66db4/Dia_1-Importando_dados/Datasets/dados_emprestimos/emprestimos-20111.csv?raw=True\")\n",
    "dados_2011_2 = pd.read_csv(\"https://github.com/FranciscoFoz/7_Days_of_Code_Alura-Python-Pandas/blob/48684f508c0c9ad1d51975c72091b160dee66db4/Dia_1-Importando_dados/Datasets/dados_emprestimos/emprestimos-20112.csv?raw=True\")\n",
    "\n",
    "dados_2012_1 = pd.read_csv(\"https://github.com/FranciscoFoz/7_Days_of_Code_Alura-Python-Pandas/blob/48684f508c0c9ad1d51975c72091b160dee66db4/Dia_1-Importando_dados/Datasets/dados_emprestimos/emprestimos-20121.csv?raw=True\")\n",
    "dados_2012_2 = pd.read_csv(\"https://github.com/FranciscoFoz/7_Days_of_Code_Alura-Python-Pandas/blob/48684f508c0c9ad1d51975c72091b160dee66db4/Dia_1-Importando_dados/Datasets/dados_emprestimos/emprestimos-20122.csv?raw=True\")\n",
    "\n",
    "dados_2013_1 = pd.read_csv(\"https://github.com/FranciscoFoz/7_Days_of_Code_Alura-Python-Pandas/blob/48684f508c0c9ad1d51975c72091b160dee66db4/Dia_1-Importando_dados/Datasets/dados_emprestimos/emprestimos-20131.csv?raw=True\")\n",
    "dados_2013_2 = pd.read_csv(\"https://github.com/FranciscoFoz/7_Days_of_Code_Alura-Python-Pandas/blob/48684f508c0c9ad1d51975c72091b160dee66db4/Dia_1-Importando_dados/Datasets/dados_emprestimos/emprestimos-20132.csv?raw=True\")\n",
    "\n",
    "dados_2014_1 = pd.read_csv(\"https://github.com/FranciscoFoz/7_Days_of_Code_Alura-Python-Pandas/blob/48684f508c0c9ad1d51975c72091b160dee66db4/Dia_1-Importando_dados/Datasets/dados_emprestimos/emprestimos-20141.csv?raw=True\")\n",
    "dados_2014_2 = pd.read_csv(\"https://github.com/FranciscoFoz/7_Days_of_Code_Alura-Python-Pandas/blob/48684f508c0c9ad1d51975c72091b160dee66db4/Dia_1-Importando_dados/Datasets/dados_emprestimos/emprestimos-20142.csv?raw=True\")\n",
    "\n",
    "dados_2015_1 = pd.read_csv(\"https://github.com/FranciscoFoz/7_Days_of_Code_Alura-Python-Pandas/blob/48684f508c0c9ad1d51975c72091b160dee66db4/Dia_1-Importando_dados/Datasets/dados_emprestimos/emprestimos-20151.csv?raw=True\")\n",
    "dados_2015_2 = pd.read_csv(\"https://github.com/FranciscoFoz/7_Days_of_Code_Alura-Python-Pandas/blob/48684f508c0c9ad1d51975c72091b160dee66db4/Dia_1-Importando_dados/Datasets/dados_emprestimos/emprestimos-20152.csv?raw=True\")\n",
    "\n",
    "dados_2016_1 = pd.read_csv(\"https://github.com/FranciscoFoz/7_Days_of_Code_Alura-Python-Pandas/blob/48684f508c0c9ad1d51975c72091b160dee66db4/Dia_1-Importando_dados/Datasets/dados_emprestimos/emprestimos-20161.csv?raw=True\")\n",
    "dados_2016_2 = pd.read_csv(\"https://github.com/FranciscoFoz/7_Days_of_Code_Alura-Python-Pandas/blob/48684f508c0c9ad1d51975c72091b160dee66db4/Dia_1-Importando_dados/Datasets/dados_emprestimos/emprestimos-20162.csv?raw=True\")\n",
    "\n",
    "dados_2017_1 = pd.read_csv(\"https://github.com/FranciscoFoz/7_Days_of_Code_Alura-Python-Pandas/blob/48684f508c0c9ad1d51975c72091b160dee66db4/Dia_1-Importando_dados/Datasets/dados_emprestimos/emprestimos-20171.csv?raw=True\")\n",
    "dados_2017_2 = pd.read_csv(\"https://github.com/FranciscoFoz/7_Days_of_Code_Alura-Python-Pandas/blob/48684f508c0c9ad1d51975c72091b160dee66db4/Dia_1-Importando_dados/Datasets/dados_emprestimos/emprestimos-20172.csv?raw=True\")\n",
    "\n",
    "dados_2018_1 = pd.read_csv(\"https://github.com/FranciscoFoz/7_Days_of_Code_Alura-Python-Pandas/blob/48684f508c0c9ad1d51975c72091b160dee66db4/Dia_1-Importando_dados/Datasets/dados_emprestimos/emprestimos-20181.csv?raw=True\")\n",
    "dados_2018_2 = pd.read_csv(\"https://github.com/FranciscoFoz/7_Days_of_Code_Alura-Python-Pandas/blob/48684f508c0c9ad1d51975c72091b160dee66db4/Dia_1-Importando_dados/Datasets/dados_emprestimos/emprestimos-20182.csv?raw=True\")\n",
    "\n",
    "dados_2019_1 = pd.read_csv(\"https://github.com/FranciscoFoz/7_Days_of_Code_Alura-Python-Pandas/blob/48684f508c0c9ad1d51975c72091b160dee66db4/Dia_1-Importando_dados/Datasets/dados_emprestimos/emprestimos-20191.csv?raw=True\")\n",
    "dados_2019_2 = pd.read_csv(\"https://github.com/FranciscoFoz/7_Days_of_Code_Alura-Python-Pandas/blob/48684f508c0c9ad1d51975c72091b160dee66db4/Dia_1-Importando_dados/Datasets/dados_emprestimos/emprestimos-20192.csv?raw=True\")\n",
    "\n",
    "dados_2020_1 = pd.read_csv(\"https://github.com/FranciscoFoz/7_Days_of_Code_Alura-Python-Pandas/blob/48684f508c0c9ad1d51975c72091b160dee66db4/Dia_1-Importando_dados/Datasets/dados_emprestimos/emprestimos-20201.csv?raw=True\")"
   ]
  },
  {
   "cell_type": "code",
   "execution_count": null,
   "metadata": {},
   "outputs": [],
   "source": [
    "#Unificação dos dados\n",
    "emprestimos_biblioteca = pd.concat([dados_2010_1, dados_2010_2, dados_2011_1, dados_2011_2, dados_2012_1, dados_2012_2, dados_2013_1, dados_2013_2, dados_2014_1, dados_2014_2, dados_2015_1, dados_2015_2, dados_2016_1, dados_2016_2, dados_2017_1, dados_2017_2, dados_2018_1, dados_2018_2, dados_2019_1, dados_2019_2, dados_2020_1], ignore_index=True)"
   ]
  },
  {
   "cell_type": "code",
   "execution_count": null,
   "metadata": {},
   "outputs": [],
   "source": [
    "#Verificar duplicatas\n",
    "emprestimos_biblioteca.value_counts()"
   ]
  },
  {
   "cell_type": "code",
   "execution_count": null,
   "metadata": {},
   "outputs": [],
   "source": [
    "#Excluindo duplicatas\n",
    "emprestimos_biblioteca = emprestimos_biblioteca.drop_duplicates()\n",
    "\n",
    "emprestimos_biblioteca.value_counts()"
   ]
  },
  {
   "cell_type": "code",
   "execution_count": null,
   "metadata": {},
   "outputs": [],
   "source": [
    "#Exibir dados, de n linhas, para verificar se estão com os tipos certo de dados\n",
    "#head(n)\n",
    "emprestimos_biblioteca.head()"
   ]
  },
  {
   "cell_type": "code",
   "execution_count": null,
   "metadata": {},
   "outputs": [],
   "source": [
    "#Deu erro, precisa ter o pyarrow instalado para funcionar\n",
    "dados_exemplares = pd.read_parquet(\"https://github.com/FranciscoFoz/7_Days_of_Code_Alura-Python-Pandas/raw/48684f508c0c9ad1d51975c72091b160dee66db4/Dia_1-Importando_dados/Datasets/dados_exemplares.parquet\")"
   ]
  },
  {
   "cell_type": "code",
   "execution_count": null,
   "metadata": {},
   "outputs": [],
   "source": [
    "emprestimo_completo = emprestimos_biblioteca.merge(dados_exemplares)"
   ]
  },
  {
   "cell_type": "markdown",
   "metadata": {},
   "source": [
    "##Day 2"
   ]
  },
  {
   "cell_type": "code",
   "execution_count": null,
   "metadata": {},
   "outputs": [],
   "source": [
    "CDU_lista = []\n",
    "\n",
    "for CDU in emprestimo_completo['localizacao']:\n",
    "    if(CDU < 100):\n",
    "        CDU_lista.append(\"Generalidade\")\n",
    "    elif(CDU < 200):\n",
    "        CDU_lista.append(\"Filosofia e Psicologia\")\n",
    "    elif(CDU < 300):\n",
    "        CDU_lista.append(\"Religião\")\n",
    "    elif(CDU < 400):\n",
    "        CDU_lista.append(\"Ciências Sociais\")\n",
    "    elif(CDU < 500):\n",
    "        CDU_lista.append(\"Classe Vaga\")\n",
    "    elif(CDU < 600):\n",
    "        CDU_lista.append(\"Matemática e Ciências Naturais\")\n",
    "    elif(CDU < 700):\n",
    "        CDU_lista.append(\"Ciências Aplicada\")\n",
    "    elif(CDU < 800):\n",
    "        CDU_lista.append(\"Belas Artes\")\n",
    "    elif(CDU < 900):\n",
    "        CDU_lista.append(\"Linguagem\")\n",
    "    else:\n",
    "        CDU_lista.append(\"Geografia. Biologia. História.\")\n",
    "\n",
    "emprestimo_completo['cdu_geral'] = CDU_lista\n",
    "\n",
    "emprestimo_completo.head()"
   ]
  },
  {
   "cell_type": "code",
   "execution_count": null,
   "metadata": {},
   "outputs": [],
   "source": [
    "#Apagando uma coluna da tabela\n",
    "emprestimo_completo.drop(columns=['registro_sistema'], inplace=True)\n",
    "\n",
    "emprestimo_completo.head()"
   ]
  },
  {
   "cell_type": "code",
   "execution_count": null,
   "metadata": {},
   "outputs": [],
   "source": [
    "#Alterando o tipo de uma das colunas\n",
    "emprestimo_completo['matricula_ou_siape'] = emprestimo_completo['matricula_ou_siape'].astype(\"string\")\n",
    "\n",
    "emprestimo_completo.head()"
   ]
  },
  {
   "cell_type": "markdown",
   "metadata": {},
   "source": [
    "##Dia 3"
   ]
  },
  {
   "cell_type": "code",
   "execution_count": null,
   "metadata": {},
   "outputs": [],
   "source": [
    "#Guardando a quantidade de emprestimos\n",
    "emprestimos = len(emprestimo_completo[\"id_emprestimo\"].drop_duplicates())"
   ]
  },
  {
   "cell_type": "code",
   "execution_count": null,
   "metadata": {},
   "outputs": [],
   "source": [
    "#Guardando a quantidade de exemplares emprestados\n",
    "exemplares = len(emprestimo_completo)"
   ]
  },
  {
   "cell_type": "code",
   "execution_count": null,
   "metadata": {},
   "outputs": [],
   "source": [
    "#Guardando a quantidade de emprestimos\n",
    "emprestimo_data = pd.DataFrame(emprestimo_completo[\"data_emprestimo\"].value_counts()).reset_index()\n",
    "#Criando colunas\n",
    "emprestimo_data.columns = [\"data\", \"quantidade\"]\n",
    "#Convertendo a coluna data para o tipo datetime\n",
    "emprestimo_data[\"data\"] = pd.to_datetime(emprestimo_data[\"data\"])"
   ]
  },
  {
   "cell_type": "code",
   "execution_count": null,
   "metadata": {},
   "outputs": [],
   "source": [
    "#Guerdando a quantidade de emprestimos por ano\n",
    "#o \"sum()\" precisa ter o \"numeric_only=True\" para funcionar \n",
    "emprestimo_por_ano = emprestimo_data.groupby(by=emprestimo_data.data.dt.year).sum(numeric_only=True)\n",
    "emprestimo_por_ano.index.name = \"ano\""
   ]
  },
  {
   "cell_type": "code",
   "execution_count": null,
   "metadata": {},
   "outputs": [],
   "source": [
    "sns.set_theme(context=\"notebook\",\n",
    "              style=\"darkgrid\",\n",
    "              palette=\"deep\",\n",
    "              font_scale=1.3,\n",
    "              rc={\"figure.figsize\":(18,8)})"
   ]
  },
  {
   "cell_type": "code",
   "execution_count": null,
   "metadata": {},
   "outputs": [],
   "source": [
    "ax = sns.lineplot(data=emprestimo_por_ano, x=\"ano\", y=\"quantidade\")\n",
    "ax.set(xlabel=None, ylabel=None)\n",
    "ax.tick_params(axis=\"x\", rotation=30)\n",
    "ax.yaxis.set_major_formatter(ticker.FuncFormatter(lambda x, p: format(int(x), \",\").replace(\",\", \".\")))\n",
    "\n",
    "ax.set_title(\"Quantidade de exemplares emprestados por ano\" + \"\\n\", size=20, loc=\"left\", weight=\"bold\")\n",
    "\n",
    "ax = ax"
   ]
  },
  {
   "cell_type": "code",
   "execution_count": null,
   "metadata": {},
   "outputs": [],
   "source": [
    "emprestimo_por_mes = emprestimo_data.groupby(by=emprestimo_data.data.dt.month).sum(numeric_only=True)\n",
    "emprestimo_por_mes.index.name = \"mes\""
   ]
  },
  {
   "cell_type": "code",
   "execution_count": null,
   "metadata": {},
   "outputs": [],
   "source": [
    "dicionario_meses = {1: \"Jan\", 2: \"Fev\", 3: \"Mar\", 4: \"Abr\", 5: \"Mai\", 6: \"Jun\", 7: \"Jul\", 8: \"Ago\", 9: \"Set\", 10: \"Out\", 11: \"Nov\", 12: \"Dez\"}\n",
    "\n",
    "emprestimo_por_mes.index = emprestimo_por_mes.index.map(dicionario_meses)"
   ]
  },
  {
   "cell_type": "code",
   "execution_count": null,
   "metadata": {},
   "outputs": [],
   "source": [
    "ax = sns.lineplot(data=emprestimo_por_mes, x=\"mes\", y=\"quantidade\")\n",
    "ax.set(xlabel=None, ylabel=None)\n",
    "ax.tick_params(axis=\"x\", rotation=30)\n",
    "ax.yaxis.set_major_formatter(ticker.FuncFormatter(lambda x, p: format(int(x), \",\").replace(\",\", \".\")))\n",
    "\n",
    "ax.set_title(\"Quantidade de exemplares emprestados por mês\" + \"\\n\", size=20, loc=\"left\", weight=\"bold\")\n",
    "ax.text(s=\"Período de 2010 à 2020\", x=-0.5, y=265000, fontsize=18, ha=\"left\", color=\"gray\")\n",
    "\n",
    "ax = ax"
   ]
  },
  {
   "cell_type": "code",
   "execution_count": null,
   "metadata": {},
   "outputs": [],
   "source": [
    "emprestimo_por_hora = emprestimo_data.groupby(by=emprestimo_data.data.dt.hour).sum(numeric_only=True)\n",
    "emprestimo_por_hora.index.name = \"horas\"\n",
    "emprestimo_por_hora = emprestimo_por_hora.reset_index()"
   ]
  },
  {
   "cell_type": "code",
   "execution_count": null,
   "metadata": {},
   "outputs": [],
   "source": [
    "emprestimo_por_hora = emprestimo_por_hora.sort_values(ascending=True, by=\"quantidade\")"
   ]
  },
  {
   "cell_type": "code",
   "execution_count": null,
   "metadata": {},
   "outputs": [],
   "source": [
    "ax = sns.barplot(data=emprestimo_por_hora, y=\"quantidade\", x=\"horas\", palette=\"Blues\", hue=\"quantidade\", dodge=False)\n",
    "plt.legend([], [], frameon=False)\n",
    "\n",
    "ax.set(xlabel=\"Horário\", ylabel=None)\n",
    "ax.yaxis.set_major_formatter(ticker.FuncFormatter(lambda x, p: format(int(x), \",\").replace(\",\", \".\")))\n",
    "ax.set_title(\"Quantidade de exemplares emprestados por hora\" + \"\\n\", size=20, loc=\"left\", weight=\"bold\")\n",
    "ax.text(s=\"Período dse 2010 à 2020\", x=-0.5, y=225000, fontsize=18, ha=\"left\", color=\"gray\")\n",
    "\n",
    "ax = ax"
   ]
  },
  {
   "cell_type": "markdown",
   "metadata": {},
   "source": [
    "##Dia 4"
   ]
  },
  {
   "cell_type": "code",
   "execution_count": null,
   "metadata": {},
   "outputs": [],
   "source": [
    "emprestimo_completo[\"data_emprestimo\"] = pd.to_datetime(emprestimo_completo[\"data_emprestimo\"])"
   ]
  },
  {
   "cell_type": "code",
   "execution_count": null,
   "metadata": {},
   "outputs": [],
   "source": [
    "emprestimo_completo.tipo_vinculo_usuario.unique()"
   ]
  },
  {
   "cell_type": "code",
   "execution_count": null,
   "metadata": {},
   "outputs": [],
   "source": [
    "emprestimo_completo.colecao.unique()"
   ]
  },
  {
   "cell_type": "code",
   "execution_count": null,
   "metadata": {},
   "outputs": [],
   "source": [
    "emprestimo_completo.biblioteca.unique()"
   ]
  },
  {
   "cell_type": "code",
   "execution_count": null,
   "metadata": {},
   "outputs": [],
   "source": [
    "emprestimo_completo.cdu_geral.unique()"
   ]
  },
  {
   "cell_type": "code",
   "execution_count": null,
   "metadata": {},
   "outputs": [],
   "source": [
    "#A \"variavel\" é a variável categórica escolhida\n",
    "def tabela_frequencia(variavel):\n",
    "    dataframe = pd.DataFrame(emprestimo_completo[variavel].value_counts())\n",
    "    dataframe.columns = [\"quantidade\"]\n",
    "    dataframe[\"percentual\"] = round((dataframe.quantidade / dataframe.quantidade.sum())*100, 1)\n",
    "    return dataframe"
   ]
  },
  {
   "cell_type": "code",
   "execution_count": null,
   "metadata": {},
   "outputs": [],
   "source": [
    "tabela_frequencia(\"tipo_vinculo_usuario\")"
   ]
  },
  {
   "cell_type": "code",
   "execution_count": null,
   "metadata": {},
   "outputs": [],
   "source": [
    "tabela_frequencia(\"colecao\")"
   ]
  },
  {
   "cell_type": "code",
   "execution_count": null,
   "metadata": {},
   "outputs": [],
   "source": [
    "tabela_frequencia(\"biblioteca\")"
   ]
  },
  {
   "cell_type": "code",
   "execution_count": null,
   "metadata": {},
   "outputs": [],
   "source": [
    "tabela_frequencia(\"cdu_geral\")"
   ]
  },
  {
   "cell_type": "markdown",
   "metadata": {},
   "source": [
    "##Dia 5"
   ]
  },
  {
   "cell_type": "code",
   "execution_count": null,
   "metadata": {},
   "outputs": [],
   "source": [
    "alunos_graduacao = emprestimo_completo.query(\"tipo_vinculo_usuario == 'ALUNO DE GRADUAÇÃO'\")"
   ]
  },
  {
   "cell_type": "code",
   "execution_count": null,
   "metadata": {},
   "outputs": [],
   "source": [
    "alunos_graduacao_acervo_circulante = alunos_graduacao.query(\"colecao == 'Acervo Circulante'\")\n",
    "alunos_graduacao_acervo_circulante = pd.DataFrame(alunos_graduacao_acervo_circulante)\n",
    "alunos_graduacao_acervo_circulante[\"data_emprestimo\"] = pd.to_datetime(alunos_graduacao_acervo_circulante[\"data_emprestimo\"])\n",
    "alunos_graduacao_acervo_circulante[\"ano\"] = alunos_graduacao_acervo_circulante[\"data_emprestimo\"].dt.year\n",
    "alunos_graduacao_acervo_circulante[\"mes\"] = alunos_graduacao_acervo_circulante[\"data_emprestimo\"].dt.month\n",
    "alunos_graduacao_acervo_circulante = alunos_graduacao_acervo_circulante.loc[:, [\"ano\", \"mes\"]]\n",
    "alunos_graduacao_acervo_circulante = alunos_graduacao_acervo_circulante.value_counts().to_frame(\"quantidade\").reset_index()"
   ]
  },
  {
   "cell_type": "code",
   "execution_count": null,
   "metadata": {},
   "outputs": [],
   "source": [
    "def gerar_box_plot(dataset, x, y, titulo, subtitulo):\n",
    "    sns.set_theme(style=\"darkgrid\", palette=\"Blues\", font_scale=1.3)\n",
    "    plt.figure(figsize=(16, 10))\n",
    "\n",
    "    ax = sns.boxplot(y=y, x=x, data=dataset, color=\"#4171EF\")\n",
    "    ax.yaxis.set_major_formatter(ticker.FuncFormatter(lambda x, p: format(int(x), \",\").replace(\",\", \".\")))\n",
    "\n",
    "    plt.ylim(0, max(dataset[y])*1.1)\n",
    "    plt.xlabel(None)\n",
    "    plt.ylabel(None)\n",
    "\n",
    "    ax.set_title(titulo+\"\\n\", size=20, loc=\"left\", weight=\"bold\")\n",
    "    ax.text(s=subtitulo, x=-0.5, y=max(dataset[y])*1.11, fontsize=18, ha=\"left\", color=\"gray\")"
   ]
  },
  {
   "cell_type": "code",
   "execution_count": null,
   "metadata": {},
   "outputs": [],
   "source": [
    "gerar_box_plot(alunos_graduacao_acervo_circulante, \"ano\", \"quantidade\", \"Distribuição de empréstimos mensais\", \"Realizados pelos alunos de graduação no acervo circulante\")"
   ]
  },
  {
   "cell_type": "code",
   "execution_count": null,
   "metadata": {},
   "outputs": [],
   "source": [
    "alunos_pos_graduacao = emprestimo_completo.query(\"tipo_vinculo_usuario == 'ALUNO DE PÓS-GRADUAÇÃO'\")"
   ]
  },
  {
   "cell_type": "code",
   "execution_count": null,
   "metadata": {},
   "outputs": [],
   "source": [
    "alunos_pos_graduacao_acervo_circulante = alunos_pos_graduacao.query(\"colecao == 'Acervo Circulante'\")\n",
    "alunos_pos_graduacao_acervo_circulante = pd.DataFrame(alunos_pos_graduacao_acervo_circulante)\n",
    "alunos_graduacao_acervo_circulante[\"data_emprestimo\"] = pd.to_datetime(alunos_pos_graduacao_acervo_circulante[\"data_emprestimo\"])\n",
    "alunos_pos_graduacao_acervo_circulante[\"ano\"] = alunos_pos_graduacao_acervo_circulante[\"data_emprestimo\"].dt.year\n",
    "alunos_pos_graduacao_acervo_circulante[\"mes\"] = alunos_pos_graduacao_acervo_circulante[\"data_emprestimo\"].dt.month\n",
    "alunos_pos_graduacao_acervo_circulante = alunos_pos_graduacao_acervo_circulante.loc[:, [\"ano\", \"mes\"]]\n",
    "alunos_pos_graduacao_acervo_circulante = alunos_pos_graduacao_acervo_circulante.value_counts().to_frame(\"quantidade\").reset_index()\n",
    "alunos_pos_graduacao_acervo_circulante"
   ]
  },
  {
   "cell_type": "code",
   "execution_count": null,
   "metadata": {},
   "outputs": [],
   "source": [
    "gerar_box_plot(alunos_pos_graduacao_acervo_circulante, \"ano\", \"quantidade\", \"Distribuição de empréstimos mensais\", \"Realizados pelos alunos de pós-graduação no acervo circulante\")"
   ]
  },
  {
   "cell_type": "markdown",
   "metadata": {},
   "source": [
    "##Dia 6"
   ]
  },
  {
   "cell_type": "code",
   "execution_count": null,
   "metadata": {},
   "outputs": [],
   "source": [
    "cadastro_usuarios_antes_2010 = pd.read_excel(\"https://github.com/FranciscoFoz/7_Days_of_Code_Alura-Python-Pandas/raw/main/Dia_6-Novos_dados_novas_analises/Datasets/matricula_alunos.xlsx\", sheet_name=\"Até 2010\", skiprows=1)\n",
    "cadastro_usuarios_depois_2010 = pd.read_excel(\"https://github.com/FranciscoFoz/7_Days_of_Code_Alura-Python-Pandas/raw/main/Dia_6-Novos_dados_novas_analises/Datasets/matricula_alunos.xlsx\", sheet_name=\"Após 2010\", skiprows=1)"
   ]
  },
  {
   "cell_type": "code",
   "execution_count": null,
   "metadata": {},
   "outputs": [],
   "source": [
    "cadastro_usuarios_antes_2010.columns = [\"matricula_ou_siape\", \"tipo_vinculo_usuario\", \"curso\"]"
   ]
  },
  {
   "cell_type": "code",
   "execution_count": null,
   "metadata": {},
   "outputs": [],
   "source": [
    "cadastro_usuarios_depois_2010.columns = [\"matricula_ou_siape\", \"tipo_vinculo_usuario\", \"curso\"]"
   ]
  },
  {
   "cell_type": "code",
   "execution_count": null,
   "metadata": {},
   "outputs": [],
   "source": [
    "cadastro_usuarios_excel = pd.concat([cadastro_usuarios_antes_2010, cadastro_usuarios_depois_2010], ignore_index=True)\n",
    "cadastro_usuarios_excel.matricula_ou_siape = cadastro_usuarios_excel.matricula_ou_siape.astype(\"string\")"
   ]
  },
  {
   "cell_type": "code",
   "execution_count": null,
   "metadata": {},
   "outputs": [],
   "source": [
    "cadastro_usuarios_json = pd.read_json(\"https://github.com/FranciscoFoz/7_Days_of_Code_Alura-Python-Pandas/raw/main/Dia_6-Novos_dados_novas_analises/Datasets/cadastro_alunos.json\")"
   ]
  },
  {
   "cell_type": "code",
   "execution_count": null,
   "metadata": {},
   "outputs": [],
   "source": [
    "cadastro_usuarios_graduacao_json = pd.read_json(cadastro_usuarios_json.registros[0])"
   ]
  },
  {
   "cell_type": "code",
   "execution_count": null,
   "metadata": {},
   "outputs": [],
   "source": [
    "cadastro_usuarios_graduacao_json.matricula_ou_siape = cadastro_usuarios_graduacao_json.matricula_ou_siape.astype(\"float\")\n",
    "cadastro_usuarios_graduacao_json.matricula_ou_siape = cadastro_usuarios_graduacao_json.matricula_ou_siape.astype(\"string\")"
   ]
  },
  {
   "cell_type": "code",
   "execution_count": null,
   "metadata": {},
   "outputs": [],
   "source": [
    "cadastro_usuarios_cursos = pd.concat([cadastro_usuarios_excel, cadastro_usuarios_graduacao_json], ignore_index=True)"
   ]
  },
  {
   "cell_type": "code",
   "execution_count": null,
   "metadata": {},
   "outputs": [],
   "source": [
    "matricula_data_de_emprestimo = emprestimo_completo.query(\"tipo_vinculo_usuario == 'ALUNO DE GRADUAÇÃO'\")\n",
    "matricula_data_de_emprestimo = matricula_data_de_emprestimo.loc[:, [\"matricula_ou_siape\", \"data_emprestimo\"]]\n",
    "matricula_data_de_emprestimo = matricula_data_de_emprestimo.query(\"data_emprestimo > 2015\")\n",
    "matricula_data_de_emprestimo = matricula_data_de_emprestimo.reset_index(drop=True)"
   ]
  },
  {
   "cell_type": "code",
   "execution_count": null,
   "metadata": {},
   "outputs": [],
   "source": [
    "matricula_data_de_emprestimo.isna().sum()"
   ]
  },
  {
   "cell_type": "code",
   "execution_count": null,
   "metadata": {},
   "outputs": [],
   "source": [
    "matricula_data_de_emprestimo = matricula_data_de_emprestimo.dropna()"
   ]
  },
  {
   "cell_type": "code",
   "execution_count": null,
   "metadata": {},
   "outputs": [],
   "source": [
    "cadastro_usuarios_cursos_selecionados = cadastro_usuarios_cursos.query(\"curso == ['BIBLIOTECONOMIA', 'CIÊNCIAS SOCIAIS', 'DIREITO', 'FILOSOFIA', 'PEDAGOGIA']\")"
   ]
  },
  {
   "cell_type": "code",
   "execution_count": null,
   "metadata": {},
   "outputs": [],
   "source": [
    "cadastro_usuarios_cursos_selecionados = matricula_data_de_emprestimo.merge(cadastro_usuarios_cursos_selecionados)"
   ]
  },
  {
   "cell_type": "code",
   "execution_count": null,
   "metadata": {},
   "outputs": [],
   "source": [
    "cadastro_usuarios_cursos_selecionados.data_emprestimo = cadastro_usuarios_cursos_selecionados.data_emprestimo.dt.year"
   ]
  },
  {
   "cell_type": "code",
   "execution_count": null,
   "metadata": {},
   "outputs": [],
   "source": [
    "emprestimo_cursos_selecionados = cadastro_usuarios_cursos_selecionados.iloc[:, [1, 3]].value_counts().reset_index()\n",
    "emprestimo_cursos_selecionados.columns = [\"ANO\", \"CURSO\", \"QUANTIDADE_EMPRESTIMO\"]"
   ]
  },
  {
   "cell_type": "code",
   "execution_count": null,
   "metadata": {},
   "outputs": [],
   "source": [
    "emprestimo_cursos_selecionados_pivot = emprestimo_cursos_selecionados.pivot_table(\n",
    "    index=\"CURSO\",\n",
    "    columns=\"ANO\",\n",
    "    values=\"QUANTIDADE_EMPRESTIMO\",\n",
    "    fill_value=\"-\",\n",
    "    aggfunc=sum,\n",
    "    margins=True,\n",
    "    margins_name=\"TOTAL\"\n",
    ")"
   ]
  },
  {
   "cell_type": "markdown",
   "metadata": {},
   "source": [
    "##Dia 7"
   ]
  },
  {
   "cell_type": "code",
   "execution_count": null,
   "metadata": {},
   "outputs": [],
   "source": [
    "cadastro_usuarios_posgraduacao_json = pd.read_json(cadastro_usuarios_json.registros[1])"
   ]
  },
  {
   "cell_type": "code",
   "execution_count": null,
   "metadata": {},
   "outputs": [],
   "source": [
    "cadastro_usuarios_posgraduacao_json.matricula_ou_siape = cadastro_usuarios_posgraduacao_json.matricula_ou_siape.astype(\"float\")\n",
    "cadastro_usuarios_posgraduacao_json.matricula_ou_siape = cadastro_usuarios_posgraduacao_json.matricula_ou_siape.astype(\"string\")"
   ]
  },
  {
   "cell_type": "code",
   "execution_count": null,
   "metadata": {},
   "outputs": [],
   "source": [
    "cadastro_usuarios_cursos = pd.concat([cadastro_usuarios_excel, cadastro_usuarios_posgraduacao_json], ignore_index=True)"
   ]
  },
  {
   "cell_type": "code",
   "execution_count": null,
   "metadata": {},
   "outputs": [],
   "source": [
    "cadastro_usuarios_cursos_posgraduacao = cadastro_usuarios_posgraduacao_json.query(\"tipo_vinculo_usuario == 'ALUNO DE PÓS-GRADUAÇÃO'\")"
   ]
  },
  {
   "cell_type": "code",
   "execution_count": null,
   "metadata": {},
   "outputs": [],
   "source": [
    "matricula_data_de_emprestimo_posgraduacao = emprestimo_completo.loc[:, [\"matricula_ou_siape\", \"data_emprestimo\"]]\n",
    "matricula_data_de_emprestimo_posgraduacao = matricula_data_de_emprestimo_posgraduacao.query(\"data_emprestimo > 2017\")\n",
    "matricula_data_de_emprestimo_posgraduacao = matricula_data_de_emprestimo_posgraduacao.reset_index(drop=True)"
   ]
  },
  {
   "cell_type": "code",
   "execution_count": null,
   "metadata": {},
   "outputs": [],
   "source": [
    "emprestimo_posgraduacao_2017 = matricula_data_de_emprestimo_posgraduacao.merge(cadastro_usuarios_cursos_posgraduacao)"
   ]
  },
  {
   "cell_type": "code",
   "execution_count": null,
   "metadata": {},
   "outputs": [],
   "source": [
    "emprestimo_posgraduacao_2017.data_emprestimo = emprestimo_posgraduacao_2017.data_emprestimo.dt.year"
   ]
  },
  {
   "cell_type": "code",
   "execution_count": null,
   "metadata": {},
   "outputs": [],
   "source": [
    "emprestimo_posgraduacao_2017 = emprestimo_posgraduacao_2017.iloc[:, [1, 3]].value_counts().reset_index()\n",
    "emprestimo_posgraduacao_2017.columns = [\"ANO\", \"CURSO\", \"QUANTIDADE_EMPRESTIMOS\"]"
   ]
  },
  {
   "cell_type": "code",
   "execution_count": null,
   "metadata": {},
   "outputs": [],
   "source": [
    "emprestimo_posgraduacao_e_cursos_pivot = emprestimo_posgraduacao_2017.pivot_table(\n",
    "    index=\"CURSO\",\n",
    "    columns=\"ANO\",\n",
    "    values=\"QUANTIDADE_EMPRESTIMOS\"\n",
    ")"
   ]
  },
  {
   "cell_type": "code",
   "execution_count": null,
   "metadata": {},
   "outputs": [],
   "source": [
    "previsao_2022 = pd.read_table(\"https://github.com/FranciscoFoz/7_Days_of_Code_Alura-Python-Pandas/raw/main/Dia_7-Apresentando_resultados_em_HTML/Dataset/previsao\")"
   ]
  },
  {
   "cell_type": "code",
   "execution_count": null,
   "metadata": {},
   "outputs": [],
   "source": [
    "previsao_2022 = previsao_2022[\"curso previsao_2022\"].str.split(\" \", expand=True)"
   ]
  },
  {
   "cell_type": "code",
   "execution_count": null,
   "metadata": {},
   "outputs": [],
   "source": [
    "previsao_2022.index = emprestimo_posgraduacao_e_cursos_pivot.index\n",
    "emprestimo_posgraduacao_e_cursos_pivot[\"2022\"] = previsao_2022.iloc[:, 1]"
   ]
  },
  {
   "cell_type": "code",
   "execution_count": null,
   "metadata": {},
   "outputs": [],
   "source": [
    "def diferenca_percentual_ano_anterior(x, y):\n",
    "    return round(((x/y * 100)-100), 2)"
   ]
  },
  {
   "cell_type": "code",
   "execution_count": null,
   "metadata": {},
   "outputs": [],
   "source": [
    "percentual_2018 = diferenca_percentual_ano_anterior(emprestimo_posgraduacao_e_cursos_pivot.iloc[:, 1], emprestimo_posgraduacao_e_cursos_pivot.iloc[:, 0])\n",
    "percentual_2019 = diferenca_percentual_ano_anterior(emprestimo_posgraduacao_e_cursos_pivot.iloc[:, 2], emprestimo_posgraduacao_e_cursos_pivot.iloc[:, 1])\n",
    "percentual_2022 = diferenca_percentual_ano_anterior(emprestimo_posgraduacao_e_cursos_pivot.iloc[:, 3], emprestimo_posgraduacao_e_cursos_pivot.iloc[:, 2])"
   ]
  },
  {
   "cell_type": "code",
   "execution_count": null,
   "metadata": {},
   "outputs": [],
   "source": [
    "percentual = pd.DataFrame({\"2018\": percentual_2018,\n",
    "                           \"2019\": percentual_2019,\n",
    "                           \"2022\": percentual_2022})"
   ]
  },
  {
   "cell_type": "code",
   "execution_count": null,
   "metadata": {},
   "outputs": [],
   "source": [
    "percentual.reset_index(inplace=True)\n",
    "percentual.columns = percentual.columns.str.capitalize()\n",
    "percentual.Curso = percentual.Curso.str.capitalize()"
   ]
  },
  {
   "cell_type": "code",
   "execution_count": 167,
   "metadata": {},
   "outputs": [],
   "source": [
    "th_props = [\n",
    "    (\"font-size\", \"1.4rem\"),\n",
    "    (\"text-align\", \"center\"),\n",
    "    (\"font-weight\", \"bold\"),\n",
    "    (\"color\", \"whitesmoke\"),\n",
    "    (\"background-color\", \"#001692\"),\n",
    "    (\"border-radius\", \"0.25rem\"),\n",
    "    (\"box-shadow\", \"0 0 1rem gray\")\n",
    "]\n",
    "\n",
    "td_props = [\n",
    "    (\"font-sizer\", \"1rem\"),\n",
    "    (\"padding\", \"0.5rem\"),\n",
    "    (\"text-align\", \"left\"),\n",
    "    (\"font-wight\", \"bold\"),\n",
    "    (\"border-bottom\", \"0 1rem solid lightgray\")\n",
    "]\n",
    "\n",
    "styles = [\n",
    "    dict(selector=\"th\", props=th_props),\n",
    "    dict(selector=\"td\", props=td_props)\n",
    "]"
   ]
  },
  {
   "cell_type": "code",
   "execution_count": 172,
   "metadata": {},
   "outputs": [],
   "source": [
    "percentual.style.text_gradient(cmap=\"RdYlGn\", low=1, axis=1, vmax=0.1, vmin=0)\\\n",
    "                                .format(\"{:.2f} %\", subset=[\"2018\", \"2019\", \"2022\"])\\\n",
    "                                .hide()\\\n",
    "                                .set_table_styles(styles)\\\n",
    "                                .to_html(\"percentual.html\", doctype_html=True,\n",
    "                                         table_attributes=\"ALIGN=LEFT WIDTH=50% CELLSPACING=5\")"
   ]
  }
 ],
 "metadata": {
  "kernelspec": {
   "display_name": "Python 3",
   "language": "python",
   "name": "python3"
  },
  "language_info": {
   "codemirror_mode": {
    "name": "ipython",
    "version": 3
   },
   "file_extension": ".py",
   "mimetype": "text/x-python",
   "name": "python",
   "nbconvert_exporter": "python",
   "pygments_lexer": "ipython3",
   "version": "3.12.4"
  }
 },
 "nbformat": 4,
 "nbformat_minor": 2
}
